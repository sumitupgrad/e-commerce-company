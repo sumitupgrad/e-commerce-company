{
 "cells": [
  {
   "cell_type": "markdown",
   "id": "385fe3b8",
   "metadata": {},
   "source": [
    "# you are working as an analyst in an e-commerce company, and you have been given the two datasets containing the details of women's apparels sold during the last year.\n",
    "\n",
    "Attribute Dataset: This dataset contains the different features of women's apparels.\n",
    "Dress Sales: This data set contains the number of sales for a particular dress ID on a particular date."
   ]
  },
  {
   "cell_type": "code",
   "execution_count": 1,
   "id": "f957906c",
   "metadata": {},
   "outputs": [],
   "source": [
    "#import the warnings.\n",
    "#import the useful libraries.\n",
    "import warnings\n",
    "warnings.filterwarnings(\"ignore\")\n",
    "import pandas as pd,numpy as np\n",
    "import matplotlib.pyplot as plt,seaborn as sns\n",
    "sns.set()\n",
    "sns.set(font_scale=1.5)\n",
    "pd.set_option(\"display.max_columns\",None)\n",
    "pd.set_option(\"display.max_rows\",None)"
   ]
  },
  {
   "cell_type": "code",
   "execution_count": 2,
   "id": "a5ca16d9",
   "metadata": {},
   "outputs": [],
   "source": [
    "data1= pd.read_csv(\"Attribute+DataSet.csv\")  #Read the data in pandas\n",
    "data2=pd.read_csv(\"Dress+Sales.csv\")"
   ]
  },
  {
   "cell_type": "code",
   "execution_count": 3,
   "id": "c47ce344",
   "metadata": {},
   "outputs": [
    {
     "data": {
      "text/html": [
       "<div>\n",
       "<style scoped>\n",
       "    .dataframe tbody tr th:only-of-type {\n",
       "        vertical-align: middle;\n",
       "    }\n",
       "\n",
       "    .dataframe tbody tr th {\n",
       "        vertical-align: top;\n",
       "    }\n",
       "\n",
       "    .dataframe thead th {\n",
       "        text-align: right;\n",
       "    }\n",
       "</style>\n",
       "<table border=\"1\" class=\"dataframe\">\n",
       "  <thead>\n",
       "    <tr style=\"text-align: right;\">\n",
       "      <th></th>\n",
       "      <th>Dress_ID</th>\n",
       "      <th>Style</th>\n",
       "      <th>Price</th>\n",
       "      <th>Rating</th>\n",
       "      <th>Size</th>\n",
       "      <th>Season</th>\n",
       "      <th>NeckLine</th>\n",
       "      <th>SleeveLength</th>\n",
       "      <th>Material</th>\n",
       "      <th>FabricType</th>\n",
       "      <th>Decoration</th>\n",
       "      <th>Pattern Type</th>\n",
       "      <th>Recommendation</th>\n",
       "    </tr>\n",
       "  </thead>\n",
       "  <tbody>\n",
       "    <tr>\n",
       "      <th>0</th>\n",
       "      <td>1006032852</td>\n",
       "      <td>Sexy</td>\n",
       "      <td>Low</td>\n",
       "      <td>4.6</td>\n",
       "      <td>M</td>\n",
       "      <td>Summer</td>\n",
       "      <td>o-neck</td>\n",
       "      <td>sleevless</td>\n",
       "      <td>NaN</td>\n",
       "      <td>chiffon</td>\n",
       "      <td>ruffles</td>\n",
       "      <td>animal</td>\n",
       "      <td>1</td>\n",
       "    </tr>\n",
       "    <tr>\n",
       "      <th>1</th>\n",
       "      <td>1212192089</td>\n",
       "      <td>Casual</td>\n",
       "      <td>Low</td>\n",
       "      <td>0.0</td>\n",
       "      <td>L</td>\n",
       "      <td>Summer</td>\n",
       "      <td>o-neck</td>\n",
       "      <td>Petal</td>\n",
       "      <td>microfiber</td>\n",
       "      <td>NaN</td>\n",
       "      <td>ruffles</td>\n",
       "      <td>animal</td>\n",
       "      <td>0</td>\n",
       "    </tr>\n",
       "  </tbody>\n",
       "</table>\n",
       "</div>"
      ],
      "text/plain": [
       "     Dress_ID   Style Price  Rating Size  Season NeckLine SleeveLength  \\\n",
       "0  1006032852    Sexy   Low     4.6    M  Summer   o-neck    sleevless   \n",
       "1  1212192089  Casual   Low     0.0    L  Summer   o-neck        Petal   \n",
       "\n",
       "     Material FabricType Decoration Pattern Type  Recommendation  \n",
       "0         NaN    chiffon    ruffles       animal               1  \n",
       "1  microfiber        NaN    ruffles       animal               0  "
      ]
     },
     "execution_count": 3,
     "metadata": {},
     "output_type": "execute_result"
    }
   ],
   "source": [
    "data1.head(2)"
   ]
  },
  {
   "cell_type": "code",
   "execution_count": 4,
   "id": "d64b2ada",
   "metadata": {},
   "outputs": [
    {
     "data": {
      "text/html": [
       "<div>\n",
       "<style scoped>\n",
       "    .dataframe tbody tr th:only-of-type {\n",
       "        vertical-align: middle;\n",
       "    }\n",
       "\n",
       "    .dataframe tbody tr th {\n",
       "        vertical-align: top;\n",
       "    }\n",
       "\n",
       "    .dataframe thead th {\n",
       "        text-align: right;\n",
       "    }\n",
       "</style>\n",
       "<table border=\"1\" class=\"dataframe\">\n",
       "  <thead>\n",
       "    <tr style=\"text-align: right;\">\n",
       "      <th></th>\n",
       "      <th>Dress_ID</th>\n",
       "      <th>29-08-2013</th>\n",
       "      <th>31-08-2013</th>\n",
       "      <th>09-02-2013</th>\n",
       "      <th>09-04-2013</th>\n",
       "      <th>09-06-2013</th>\n",
       "      <th>09-08-2013</th>\n",
       "      <th>09-10-2013</th>\n",
       "      <th>09-12-2013</th>\n",
       "      <th>14-09-2013</th>\n",
       "      <th>16-09-2013</th>\n",
       "      <th>18-09-2013</th>\n",
       "      <th>20-09-2013</th>\n",
       "      <th>22-09-2013</th>\n",
       "      <th>24-09-2013</th>\n",
       "      <th>26-09-2013</th>\n",
       "      <th>28-09-2013</th>\n",
       "      <th>30-09-2013</th>\n",
       "      <th>10-02-2013</th>\n",
       "      <th>10-04-2013</th>\n",
       "      <th>10-06-2013</th>\n",
       "      <th>10-08-2013</th>\n",
       "      <th>10-10-2013</th>\n",
       "      <th>10-12-2013</th>\n",
       "    </tr>\n",
       "  </thead>\n",
       "  <tbody>\n",
       "    <tr>\n",
       "      <th>0</th>\n",
       "      <td>1.006033e+09</td>\n",
       "      <td>2114</td>\n",
       "      <td>2274</td>\n",
       "      <td>2491</td>\n",
       "      <td>2660</td>\n",
       "      <td>2727</td>\n",
       "      <td>2887</td>\n",
       "      <td>2930</td>\n",
       "      <td>3119</td>\n",
       "      <td>3204</td>\n",
       "      <td>3277</td>\n",
       "      <td>3321</td>\n",
       "      <td>3386</td>\n",
       "      <td>3479</td>\n",
       "      <td>3554</td>\n",
       "      <td>3624.0</td>\n",
       "      <td>3706</td>\n",
       "      <td>3746.0</td>\n",
       "      <td>3795.0</td>\n",
       "      <td>3832.0</td>\n",
       "      <td>3897</td>\n",
       "      <td>3923.0</td>\n",
       "      <td>3985.0</td>\n",
       "      <td>4048</td>\n",
       "    </tr>\n",
       "    <tr>\n",
       "      <th>1</th>\n",
       "      <td>1.212192e+09</td>\n",
       "      <td>151</td>\n",
       "      <td>275</td>\n",
       "      <td>570</td>\n",
       "      <td>750</td>\n",
       "      <td>813</td>\n",
       "      <td>1066</td>\n",
       "      <td>1164</td>\n",
       "      <td>1558</td>\n",
       "      <td>1756</td>\n",
       "      <td>1878</td>\n",
       "      <td>1985</td>\n",
       "      <td>2106</td>\n",
       "      <td>2454</td>\n",
       "      <td>2710</td>\n",
       "      <td>2942.0</td>\n",
       "      <td>3258</td>\n",
       "      <td>3354.0</td>\n",
       "      <td>3475.0</td>\n",
       "      <td>3654.0</td>\n",
       "      <td>3911</td>\n",
       "      <td>4024.0</td>\n",
       "      <td>4125.0</td>\n",
       "      <td>4277</td>\n",
       "    </tr>\n",
       "  </tbody>\n",
       "</table>\n",
       "</div>"
      ],
      "text/plain": [
       "       Dress_ID  29-08-2013  31-08-2013  09-02-2013  09-04-2013  09-06-2013  \\\n",
       "0  1.006033e+09        2114        2274        2491        2660        2727   \n",
       "1  1.212192e+09         151         275         570         750         813   \n",
       "\n",
       "   09-08-2013  09-10-2013 09-12-2013 14-09-2013 16-09-2013 18-09-2013  \\\n",
       "0        2887        2930       3119       3204       3277       3321   \n",
       "1        1066        1164       1558       1756       1878       1985   \n",
       "\n",
       "  20-09-2013 22-09-2013  24-09-2013  26-09-2013  28-09-2013  30-09-2013  \\\n",
       "0       3386       3479        3554      3624.0        3706      3746.0   \n",
       "1       2106       2454        2710      2942.0        3258      3354.0   \n",
       "\n",
       "   10-02-2013  10-04-2013  10-06-2013  10-08-2013  10-10-2013  10-12-2013  \n",
       "0      3795.0      3832.0        3897      3923.0      3985.0        4048  \n",
       "1      3475.0      3654.0        3911      4024.0      4125.0        4277  "
      ]
     },
     "execution_count": 4,
     "metadata": {},
     "output_type": "execute_result"
    }
   ],
   "source": [
    "data2.head(2)"
   ]
  },
  {
   "cell_type": "raw",
   "id": "165f53f9",
   "metadata": {},
   "source": [
    "# Q1: You have “Attribute DataSet” which contains a column named “Price”. Choose the correct option for its data type and variable type. \n",
    "\n",
    "1.Integer type and numerical variable\n",
    "2.Object type and categorical ordinal variable\n",
    "3.Object type and categorical nominal variable\n",
    "4.Float type and categorical variable"
   ]
  },
  {
   "cell_type": "code",
   "execution_count": 5,
   "id": "485b94c9",
   "metadata": {},
   "outputs": [
    {
     "name": "stdout",
     "output_type": "stream",
     "text": [
      "<class 'pandas.core.frame.DataFrame'>\n",
      "RangeIndex: 479 entries, 0 to 478\n",
      "Data columns (total 13 columns):\n",
      " #   Column          Non-Null Count  Dtype  \n",
      "---  ------          --------------  -----  \n",
      " 0   Dress_ID        479 non-null    int64  \n",
      " 1   Style           479 non-null    object \n",
      " 2   Price           477 non-null    object \n",
      " 3   Rating          479 non-null    float64\n",
      " 4   Size            479 non-null    object \n",
      " 5   Season          477 non-null    object \n",
      " 6   NeckLine        476 non-null    object \n",
      " 7   SleeveLength    477 non-null    object \n",
      " 8   Material        360 non-null    object \n",
      " 9   FabricType      223 non-null    object \n",
      " 10  Decoration      255 non-null    object \n",
      " 11  Pattern Type    377 non-null    object \n",
      " 12  Recommendation  479 non-null    int64  \n",
      "dtypes: float64(1), int64(2), object(10)\n",
      "memory usage: 48.8+ KB\n"
     ]
    }
   ],
   "source": [
    "data1.info() # Print the information about the attributes"
   ]
  },
  {
   "cell_type": "markdown",
   "id": "80eb5ac5",
   "metadata": {},
   "source": [
    "# As you can see, there is a column in the Attribute Dataset named 'Size’. This column contains the values in an abbreviated format. Write a code in Python to convert the followings:\n",
    "\n",
    "M into “Medium”\n",
    "L into “Large”\n",
    "XL into “Extra large”\n",
    "Free into “Free”\n",
    "S, s and small into “Small”"
   ]
  },
  {
   "cell_type": "code",
   "execution_count": 6,
   "id": "7e7ad45e",
   "metadata": {},
   "outputs": [
    {
     "data": {
      "text/html": [
       "<div>\n",
       "<style scoped>\n",
       "    .dataframe tbody tr th:only-of-type {\n",
       "        vertical-align: middle;\n",
       "    }\n",
       "\n",
       "    .dataframe tbody tr th {\n",
       "        vertical-align: top;\n",
       "    }\n",
       "\n",
       "    .dataframe thead th {\n",
       "        text-align: right;\n",
       "    }\n",
       "</style>\n",
       "<table border=\"1\" class=\"dataframe\">\n",
       "  <thead>\n",
       "    <tr style=\"text-align: right;\">\n",
       "      <th></th>\n",
       "      <th>Dress_ID</th>\n",
       "      <th>Style</th>\n",
       "      <th>Price</th>\n",
       "      <th>Rating</th>\n",
       "      <th>Size</th>\n",
       "      <th>Season</th>\n",
       "      <th>NeckLine</th>\n",
       "      <th>SleeveLength</th>\n",
       "      <th>Material</th>\n",
       "      <th>FabricType</th>\n",
       "      <th>Decoration</th>\n",
       "      <th>Pattern Type</th>\n",
       "      <th>Recommendation</th>\n",
       "    </tr>\n",
       "  </thead>\n",
       "  <tbody>\n",
       "    <tr>\n",
       "      <th>0</th>\n",
       "      <td>1006032852</td>\n",
       "      <td>Sexy</td>\n",
       "      <td>Low</td>\n",
       "      <td>4.6</td>\n",
       "      <td>M</td>\n",
       "      <td>Summer</td>\n",
       "      <td>o-neck</td>\n",
       "      <td>sleevless</td>\n",
       "      <td>NaN</td>\n",
       "      <td>chiffon</td>\n",
       "      <td>ruffles</td>\n",
       "      <td>animal</td>\n",
       "      <td>1</td>\n",
       "    </tr>\n",
       "    <tr>\n",
       "      <th>1</th>\n",
       "      <td>1212192089</td>\n",
       "      <td>Casual</td>\n",
       "      <td>Low</td>\n",
       "      <td>0.0</td>\n",
       "      <td>L</td>\n",
       "      <td>Summer</td>\n",
       "      <td>o-neck</td>\n",
       "      <td>Petal</td>\n",
       "      <td>microfiber</td>\n",
       "      <td>NaN</td>\n",
       "      <td>ruffles</td>\n",
       "      <td>animal</td>\n",
       "      <td>0</td>\n",
       "    </tr>\n",
       "  </tbody>\n",
       "</table>\n",
       "</div>"
      ],
      "text/plain": [
       "     Dress_ID   Style Price  Rating Size  Season NeckLine SleeveLength  \\\n",
       "0  1006032852    Sexy   Low     4.6    M  Summer   o-neck    sleevless   \n",
       "1  1212192089  Casual   Low     0.0    L  Summer   o-neck        Petal   \n",
       "\n",
       "     Material FabricType Decoration Pattern Type  Recommendation  \n",
       "0         NaN    chiffon    ruffles       animal               1  \n",
       "1  microfiber        NaN    ruffles       animal               0  "
      ]
     },
     "execution_count": 6,
     "metadata": {},
     "output_type": "execute_result"
    }
   ],
   "source": [
    "data1.head(2)"
   ]
  },
  {
   "cell_type": "code",
   "execution_count": 7,
   "id": "8058998d",
   "metadata": {},
   "outputs": [
    {
     "data": {
      "text/plain": [
       "M        171\n",
       "free     165\n",
       "L         93\n",
       "S         34\n",
       "XL        14\n",
       "s          1\n",
       "small      1\n",
       "Name: Size, dtype: int64"
      ]
     },
     "execution_count": 7,
     "metadata": {},
     "output_type": "execute_result"
    }
   ],
   "source": [
    "data1.Size.value_counts()"
   ]
  },
  {
   "cell_type": "code",
   "execution_count": 8,
   "id": "8a5659ad",
   "metadata": {},
   "outputs": [],
   "source": [
    "data1.Size=data1.Size.replace({\"M\":\"Medium\",\"L\":\"Large\",\"XL\":\"Extra large\",\"free\":\"Free\",\"S\":\"Small\",\"s\":\"Small\",\"small\":\"Small\"})"
   ]
  },
  {
   "cell_type": "markdown",
   "id": "f7349db8",
   "metadata": {},
   "source": [
    "# Mandatory\n",
    "Fixing Rows and Columns\n",
    "As you can see, there is a column in the Attribute Dataset named 'Size’. This column contains the values in an abbreviated format. Write a code in Python to convert the followings:\n",
    "\n",
    "M into “Medium”\n",
    "\n",
    "L into “Large”\n",
    "\n",
    "XL into “Extra large”\n",
    "\n",
    "Free into “Free”\n",
    "\n",
    "S, s and small into “Small”\n",
    "\n",
    "Now, once you are done with changes in the dataset, what is the value of the lowest percentage, the highest percentage and the percentage of Small size categories in the column named “Size”, respectively?"
   ]
  },
  {
   "cell_type": "code",
   "execution_count": 9,
   "id": "ae707ed0",
   "metadata": {},
   "outputs": [],
   "source": [
    "uni=data1.Size.value_counts(normalize=True)*100"
   ]
  },
  {
   "cell_type": "code",
   "execution_count": 10,
   "id": "6e38a334",
   "metadata": {},
   "outputs": [
    {
     "data": {
      "text/plain": [
       "Medium         35.699374\n",
       "Free           34.446764\n",
       "Large          19.415449\n",
       "Small           7.515658\n",
       "Extra large     2.922756\n",
       "Name: Size, dtype: float64"
      ]
     },
     "execution_count": 10,
     "metadata": {},
     "output_type": "execute_result"
    }
   ],
   "source": [
    "uni"
   ]
  },
  {
   "cell_type": "code",
   "execution_count": 11,
   "id": "a452098b",
   "metadata": {},
   "outputs": [
    {
     "data": {
      "image/png": "[encoded data removed]",
      "text/plain": [
       "<Figure size 432x288 with 1 Axes>"
      ]
     },
     "metadata": {},
     "output_type": "display_data"
    }
   ],
   "source": [
    "uni.plot(kind=\"bar\")\n",
    "plt.show()"
   ]
  },
  {
   "cell_type": "code",
   "execution_count": 12,
   "id": "8b09c1c1",
   "metadata": {},
   "outputs": [
    {
     "data": {
      "text/plain": [
       "Medium         171\n",
       "Free           165\n",
       "Large           93\n",
       "Small           36\n",
       "Extra large     14\n",
       "Name: Size, dtype: int64"
      ]
     },
     "execution_count": 12,
     "metadata": {},
     "output_type": "execute_result"
    }
   ],
   "source": [
    "data1.Size.value_counts()"
   ]
  },
  {
   "cell_type": "markdown",
   "id": "e6d0fc7e",
   "metadata": {},
   "source": [
    "#  You are given another dataset named “Dress Sales”. Now if you observe the datatypes of the columns using ‘data2.info()’ command, you can identify that there are certain columns defined as object data type though they primarily consist of numeric data.\n",
    "\n",
    "Now, if you try and convert these object data type columns into numeric data type(float), you will come across an error message. Choose the correct option with the reason for the error and also how to remove this error.\n",
    "\n",
    "The error occurred because there are some blank entries in such specific columns, and when you convert these null values into float, it shows the error message. To remove this error, you need to remove such null values from the dataset.\n",
    "Error occurred because there are string entries in such columns. You should replace these string values with null values and then convert it into float type.\n",
    "The error occurred because object type cannot be converted into float type. This error cannot be removed, and you have to deal with the object data types in such columns."
   ]
  },
  {
   "cell_type": "code",
   "execution_count": 13,
   "id": "8ba59293",
   "metadata": {},
   "outputs": [
    {
     "name": "stdout",
     "output_type": "stream",
     "text": [
      "<class 'pandas.core.frame.DataFrame'>\n",
      "RangeIndex: 479 entries, 0 to 478\n",
      "Data columns (total 24 columns):\n",
      " #   Column      Non-Null Count  Dtype  \n",
      "---  ------      --------------  -----  \n",
      " 0   Dress_ID    479 non-null    float64\n",
      " 1   29-08-2013  479 non-null    int64  \n",
      " 2   31-08-2013  479 non-null    int64  \n",
      " 3   09-02-2013  479 non-null    int64  \n",
      " 4   09-04-2013  479 non-null    int64  \n",
      " 5   09-06-2013  479 non-null    int64  \n",
      " 6   09-08-2013  479 non-null    int64  \n",
      " 7   09-10-2013  479 non-null    int64  \n",
      " 8   09-12-2013  479 non-null    object \n",
      " 9   14-09-2013  479 non-null    object \n",
      " 10  16-09-2013  479 non-null    object \n",
      " 11  18-09-2013  479 non-null    object \n",
      " 12  20-09-2013  479 non-null    object \n",
      " 13  22-09-2013  479 non-null    object \n",
      " 14  24-09-2013  479 non-null    int64  \n",
      " 15  26-09-2013  257 non-null    float64\n",
      " 16  28-09-2013  479 non-null    int64  \n",
      " 17  30-09-2013  222 non-null    float64\n",
      " 18  10-02-2013  220 non-null    float64\n",
      " 19  10-04-2013  221 non-null    float64\n",
      " 20  10-06-2013  479 non-null    int64  \n",
      " 21  10-08-2013  224 non-null    float64\n",
      " 22  10-10-2013  224 non-null    float64\n",
      " 23  10-12-2013  479 non-null    int64  \n",
      "dtypes: float64(7), int64(11), object(6)\n",
      "memory usage: 89.9+ KB\n"
     ]
    }
   ],
   "source": [
    "data2.info()"
   ]
  },
  {
   "cell_type": "markdown",
   "id": "f1876a3b",
   "metadata": {},
   "source": [
    " **Here is unwanted string in that columns thats why we repalce with zero***"
   ]
  },
  {
   "cell_type": "code",
   "execution_count": 14,
   "id": "91a42af1",
   "metadata": {},
   "outputs": [],
   "source": [
    "data2[\"09-12-2013\"]=data2[\"09-12-2013\"].replace({\"Removed\":0}) "
   ]
  },
  {
   "cell_type": "code",
   "execution_count": 15,
   "id": "b128eb62",
   "metadata": {},
   "outputs": [],
   "source": [
    "data2[\"14-09-2013\"]=data2[\"14-09-2013\"].replace({\"removed\":0}) "
   ]
  },
  {
   "cell_type": "code",
   "execution_count": 16,
   "id": "f78769e6",
   "metadata": {},
   "outputs": [],
   "source": [
    "data2[\"16-09-2013\"]=data2[\"16-09-2013\"].replace({\"removed\":0})"
   ]
  },
  {
   "cell_type": "code",
   "execution_count": 17,
   "id": "d9f1d7f3",
   "metadata": {},
   "outputs": [],
   "source": [
    "data2[\"18-09-2013\"]=data2[\"18-09-2013\"].replace({\"removed\":0})"
   ]
  },
  {
   "cell_type": "code",
   "execution_count": 18,
   "id": "1bbdf1c5",
   "metadata": {},
   "outputs": [],
   "source": [
    "data2[\"20-09-2013\"]=data2[\"20-09-2013\"].replace({\"removed\":0})"
   ]
  },
  {
   "cell_type": "code",
   "execution_count": 19,
   "id": "76ec2083",
   "metadata": {},
   "outputs": [],
   "source": [
    "data2[\"22-09-2013\"]=data2[\"22-09-2013\"].replace({\"Orders\":0}) "
   ]
  },
  {
   "cell_type": "markdown",
   "id": "04d1fe49",
   "metadata": {},
   "source": [
    "**After Replace We convert into float for Manipulation Purpose***"
   ]
  },
  {
   "cell_type": "code",
   "execution_count": 20,
   "id": "471b94d6",
   "metadata": {},
   "outputs": [],
   "source": [
    "data2[\"09-12-2013\"]=data2[\"09-12-2013\"].astype(\"float\")\n",
    "data2[\"14-09-2013\"]=data2[\"14-09-2013\"].astype(\"float\")\n",
    "data2[\"16-09-2013\"]=data2[\"16-09-2013\"].astype(\"float\")\n",
    "data2[\"18-09-2013\"]=data2[\"18-09-2013\"].astype(\"float\")\n",
    "data2[\"20-09-2013\"]=data2[\"20-09-2013\"].astype(\"float\")\n",
    "data2[\"22-09-2013\"]=data2[\"22-09-2013\"].astype(\"float\")"
   ]
  },
  {
   "cell_type": "code",
   "execution_count": 21,
   "id": "8a5d8166",
   "metadata": {},
   "outputs": [
    {
     "name": "stdout",
     "output_type": "stream",
     "text": [
      "<class 'pandas.core.frame.DataFrame'>\n",
      "RangeIndex: 479 entries, 0 to 478\n",
      "Data columns (total 24 columns):\n",
      " #   Column      Non-Null Count  Dtype  \n",
      "---  ------      --------------  -----  \n",
      " 0   Dress_ID    479 non-null    float64\n",
      " 1   29-08-2013  479 non-null    int64  \n",
      " 2   31-08-2013  479 non-null    int64  \n",
      " 3   09-02-2013  479 non-null    int64  \n",
      " 4   09-04-2013  479 non-null    int64  \n",
      " 5   09-06-2013  479 non-null    int64  \n",
      " 6   09-08-2013  479 non-null    int64  \n",
      " 7   09-10-2013  479 non-null    int64  \n",
      " 8   09-12-2013  479 non-null    float64\n",
      " 9   14-09-2013  479 non-null    float64\n",
      " 10  16-09-2013  479 non-null    float64\n",
      " 11  18-09-2013  479 non-null    float64\n",
      " 12  20-09-2013  479 non-null    float64\n",
      " 13  22-09-2013  479 non-null    float64\n",
      " 14  24-09-2013  479 non-null    int64  \n",
      " 15  26-09-2013  257 non-null    float64\n",
      " 16  28-09-2013  479 non-null    int64  \n",
      " 17  30-09-2013  222 non-null    float64\n",
      " 18  10-02-2013  220 non-null    float64\n",
      " 19  10-04-2013  221 non-null    float64\n",
      " 20  10-06-2013  479 non-null    int64  \n",
      " 21  10-08-2013  224 non-null    float64\n",
      " 22  10-10-2013  224 non-null    float64\n",
      " 23  10-12-2013  479 non-null    int64  \n",
      "dtypes: float64(13), int64(11)\n",
      "memory usage: 89.9 KB\n"
     ]
    }
   ],
   "source": [
    "data2.info()"
   ]
  },
  {
   "cell_type": "markdown",
   "id": "8a82d04a",
   "metadata": {},
   "source": [
    "# Handling Missing Values\n",
    "When you see the null counts in “Dress Sales” dataset after performing all the operations that have been mentioned in Jupyter notebook, you will find that there are some columns in “Dress Sales” data where the number of missing values is more than 40%. Based on your understanding of dealing with missing values, select the most appropriate statement, with the reason."
   ]
  },
  {
   "cell_type": "code",
   "execution_count": 22,
   "id": "b5ebd789",
   "metadata": {},
   "outputs": [
    {
     "data": {
      "text/plain": [
       "Dress_ID       0.000000\n",
       "29-08-2013     0.000000\n",
       "31-08-2013     0.000000\n",
       "09-02-2013     0.000000\n",
       "09-04-2013     0.000000\n",
       "09-06-2013     0.000000\n",
       "09-08-2013     0.000000\n",
       "09-10-2013     0.000000\n",
       "09-12-2013     0.000000\n",
       "14-09-2013     0.000000\n",
       "16-09-2013     0.000000\n",
       "18-09-2013     0.000000\n",
       "20-09-2013     0.000000\n",
       "22-09-2013     0.000000\n",
       "24-09-2013     0.000000\n",
       "26-09-2013    46.346555\n",
       "28-09-2013     0.000000\n",
       "30-09-2013    53.653445\n",
       "10-02-2013    54.070981\n",
       "10-04-2013    53.862213\n",
       "10-06-2013     0.000000\n",
       "10-08-2013    53.235908\n",
       "10-10-2013    53.235908\n",
       "10-12-2013     0.000000\n",
       "dtype: float64"
      ]
     },
     "execution_count": 22,
     "metadata": {},
     "output_type": "execute_result"
    }
   ],
   "source": [
    "data2.isnull().mean()*100"
   ]
  },
  {
   "cell_type": "markdown",
   "id": "5ade4d27",
   "metadata": {},
   "source": [
    "**number of missing values is more than 40% thats why we can drop this columns**"
   ]
  },
  {
   "cell_type": "code",
   "execution_count": 23,
   "id": "8618d1e6",
   "metadata": {},
   "outputs": [],
   "source": [
    "data2=data2.drop([\"26-09-2013\"],axis=1)"
   ]
  },
  {
   "cell_type": "code",
   "execution_count": 24,
   "id": "f79df626",
   "metadata": {},
   "outputs": [],
   "source": [
    "data2=data2.drop([\"30-09-2013\"],axis=1)"
   ]
  },
  {
   "cell_type": "code",
   "execution_count": 25,
   "id": "64adb675",
   "metadata": {},
   "outputs": [],
   "source": [
    "data2=data2.drop([\"10-02-2013\"],axis=1)"
   ]
  },
  {
   "cell_type": "code",
   "execution_count": 26,
   "id": "7c456a64",
   "metadata": {},
   "outputs": [],
   "source": [
    "data2=data2.drop([\"10-04-2013\"],axis=1)"
   ]
  },
  {
   "cell_type": "code",
   "execution_count": 27,
   "id": "aaf838eb",
   "metadata": {},
   "outputs": [],
   "source": [
    "data2=data2.drop([\"10-08-2013\"],axis=1)"
   ]
  },
  {
   "cell_type": "code",
   "execution_count": 28,
   "id": "2f7cfc07",
   "metadata": {},
   "outputs": [],
   "source": [
    "data2=data2.drop([\"10-10-2013\"],axis=1)"
   ]
  },
  {
   "cell_type": "code",
   "execution_count": 29,
   "id": "773bfd8d",
   "metadata": {},
   "outputs": [
    {
     "data": {
      "text/plain": [
       "Dress_ID      0.0\n",
       "29-08-2013    0.0\n",
       "31-08-2013    0.0\n",
       "09-02-2013    0.0\n",
       "09-04-2013    0.0\n",
       "09-06-2013    0.0\n",
       "09-08-2013    0.0\n",
       "09-10-2013    0.0\n",
       "09-12-2013    0.0\n",
       "14-09-2013    0.0\n",
       "16-09-2013    0.0\n",
       "18-09-2013    0.0\n",
       "20-09-2013    0.0\n",
       "22-09-2013    0.0\n",
       "24-09-2013    0.0\n",
       "28-09-2013    0.0\n",
       "10-06-2013    0.0\n",
       "10-12-2013    0.0\n",
       "dtype: float64"
      ]
     },
     "execution_count": 29,
     "metadata": {},
     "output_type": "execute_result"
    }
   ],
   "source": [
    "data2.isnull().mean()*100 #after dropping the columns"
   ]
  },
  {
   "cell_type": "markdown",
   "id": "c17dcf40",
   "metadata": {},
   "source": [
    "# Handling Missing Values\n",
    "You need to categorise the dates into seasons in “Dress Sales” data to simplify the analysis according to the following criteria:\n",
    "\n",
    "June, July and August: Summer.\n",
    "\n",
    "September, October and November: Autumn.\n",
    "\n",
    "December, January and February: Winter.\n",
    "\n",
    "March, April and May: Spring.\n",
    "\n",
    "Which of the seasons has the lowest sales among all the seasons, and what is its value?"
   ]
  },
  {
   "cell_type": "code",
   "execution_count": 30,
   "id": "fdfdf71e",
   "metadata": {},
   "outputs": [
    {
     "data": {
      "text/plain": [
       "Index(['Dress_ID', '29-08-2013', '31-08-2013', '09-02-2013', '09-04-2013',\n",
       "       '09-06-2013', '09-08-2013', '09-10-2013', '09-12-2013', '14-09-2013',\n",
       "       '16-09-2013', '18-09-2013', '20-09-2013', '22-09-2013', '24-09-2013',\n",
       "       '28-09-2013', '10-06-2013', '10-12-2013'],\n",
       "      dtype='object')"
      ]
     },
     "execution_count": 30,
     "metadata": {},
     "output_type": "execute_result"
    }
   ],
   "source": [
    "data2.columns"
   ]
  },
  {
   "cell_type": "code",
   "execution_count": 31,
   "id": "2d7e82d8",
   "metadata": {},
   "outputs": [],
   "source": [
    "data2[\"Summer\"]=data2[\"29-08-2013\"] +data2[\"31-08-2013\"]+data2[\"09-06-2013\"] +data2[\"09-08-2013\"] +data2[\"10-06-2013\"]"
   ]
  },
  {
   "cell_type": "code",
   "execution_count": 32,
   "id": "d9bad3f4",
   "metadata": {},
   "outputs": [],
   "source": [
    "data2['Autumn'] = data2['09-10-2013'] + data2['14-09-2013'] + data2['16-09-2013'] + data2['18-09-2013'] + data2['20-09-2013'] + data2['22-09-2013'] + data2['24-09-2013'] + data2['28-09-2013']"
   ]
  },
  {
   "cell_type": "code",
   "execution_count": 33,
   "id": "2cc3d447",
   "metadata": {},
   "outputs": [],
   "source": [
    "data2['Winter'] = data2['09-12-2013'] + data2['10-12-2013'] + data2['09-02-2013']\n"
   ]
  },
  {
   "cell_type": "code",
   "execution_count": 34,
   "id": "8521314c",
   "metadata": {},
   "outputs": [],
   "source": [
    "data2['Spring'] = data2['09-04-2013']"
   ]
  },
  {
   "cell_type": "code",
   "execution_count": 35,
   "id": "1cf39f85",
   "metadata": {},
   "outputs": [
    {
     "data": {
      "image/png": "[encoded data removed]",
      "text/plain": [
       "<Figure size 432x288 with 1 Axes>"
      ]
     },
     "metadata": {},
     "output_type": "display_data"
    }
   ],
   "source": [
    "data2[[\"Summer\",\"Autumn\",\"Winter\",\"Spring\"]].sum().plot(kind=\"bar\")\n",
    "plt.show()"
   ]
  },
  {
   "cell_type": "markdown",
   "id": "c0119445",
   "metadata": {},
   "source": [
    "# Missing values handling\n",
    "You can see that there are two types of variables: one with a large number of missing values and another with very less number of missing values. These two columns can be categorised as:\n",
    "\n",
    "Type-1: Missing values are very less (around 2 or 3 missing values): Price, Season, NeckLine, SleeveLength, Winter and Autumn\n",
    "\n",
    "Type-2: Missing values are large in numbers (more than 15%): Material, FabricType, Decoration and Pattern Type\n",
    "\n",
    "Based on your understanding, which is the best method to deal with missing values in Type-1 and Type-2 columns?"
   ]
  },
  {
   "cell_type": "code",
   "execution_count": 36,
   "id": "0d48128d",
   "metadata": {},
   "outputs": [],
   "source": [
    "data=data1.merge(data2,on=\"Dress_ID\",how=\"left\")  #Now let's merge data1 with data with left join manner, so that the information of data1 should remain intact"
   ]
  },
  {
   "cell_type": "code",
   "execution_count": 37,
   "id": "446a26da",
   "metadata": {},
   "outputs": [
    {
     "data": {
      "text/plain": [
       "Dress_ID           0.000000\n",
       "Style              0.000000\n",
       "Price              0.417537\n",
       "Rating             0.000000\n",
       "Size               0.000000\n",
       "Season             0.417537\n",
       "NeckLine           0.626305\n",
       "SleeveLength       0.417537\n",
       "Material          24.843424\n",
       "FabricType        53.444676\n",
       "Decoration        46.764092\n",
       "Pattern Type      21.294363\n",
       "Recommendation     0.000000\n",
       "29-08-2013         0.000000\n",
       "31-08-2013         0.000000\n",
       "09-02-2013         0.000000\n",
       "09-04-2013         0.000000\n",
       "09-06-2013         0.000000\n",
       "09-08-2013         0.000000\n",
       "09-10-2013         0.000000\n",
       "09-12-2013         0.000000\n",
       "14-09-2013         0.000000\n",
       "16-09-2013         0.000000\n",
       "18-09-2013         0.000000\n",
       "20-09-2013         0.000000\n",
       "22-09-2013         0.000000\n",
       "24-09-2013         0.000000\n",
       "28-09-2013         0.000000\n",
       "10-06-2013         0.000000\n",
       "10-12-2013         0.000000\n",
       "Summer             0.000000\n",
       "Autumn             0.000000\n",
       "Winter             0.000000\n",
       "Spring             0.000000\n",
       "dtype: float64"
      ]
     },
     "execution_count": 37,
     "metadata": {},
     "output_type": "execute_result"
    }
   ],
   "source": [
    "data.isnull().mean()*100"
   ]
  },
  {
   "cell_type": "code",
   "execution_count": 38,
   "id": "e11205b5",
   "metadata": {},
   "outputs": [],
   "source": [
    "data.Material=data.Material.fillna(\"Missing\") #Type-2: Missing values are large in numbers (more than 15%): Material, FabricType, Decoration and Pattern Type"
   ]
  },
  {
   "cell_type": "code",
   "execution_count": 39,
   "id": "a3d42a6c",
   "metadata": {},
   "outputs": [],
   "source": [
    "data.FabricType=data.FabricType.fillna(\"Missing\")\n",
    "data.Decoration=data.Decoration.fillna(\"Missing\")\n",
    "data[\"Pattern Type\"]=data[\"Pattern Type\"].fillna(\"Missing\")"
   ]
  },
  {
   "cell_type": "code",
   "execution_count": 40,
   "id": "0ea8bdab",
   "metadata": {},
   "outputs": [
    {
     "data": {
      "text/plain": [
       "Dress_ID          0.00\n",
       "Style             0.00\n",
       "Price             0.42\n",
       "Rating            0.00\n",
       "Size              0.00\n",
       "Season            0.42\n",
       "NeckLine          0.63\n",
       "SleeveLength      0.42\n",
       "Material          0.00\n",
       "FabricType        0.00\n",
       "Decoration        0.00\n",
       "Pattern Type      0.00\n",
       "Recommendation    0.00\n",
       "29-08-2013        0.00\n",
       "31-08-2013        0.00\n",
       "09-02-2013        0.00\n",
       "09-04-2013        0.00\n",
       "09-06-2013        0.00\n",
       "09-08-2013        0.00\n",
       "09-10-2013        0.00\n",
       "09-12-2013        0.00\n",
       "14-09-2013        0.00\n",
       "16-09-2013        0.00\n",
       "18-09-2013        0.00\n",
       "20-09-2013        0.00\n",
       "22-09-2013        0.00\n",
       "24-09-2013        0.00\n",
       "28-09-2013        0.00\n",
       "10-06-2013        0.00\n",
       "10-12-2013        0.00\n",
       "Summer            0.00\n",
       "Autumn            0.00\n",
       "Winter            0.00\n",
       "Spring            0.00\n",
       "dtype: float64"
      ]
     },
     "execution_count": 40,
     "metadata": {},
     "output_type": "execute_result"
    }
   ],
   "source": [
    "round(data.isnull().mean()*100,2)"
   ]
  },
  {
   "cell_type": "markdown",
   "id": "e3246822",
   "metadata": {},
   "source": [
    "# Standardising Values\n",
    "In the given dataset, there are certain discrepancies with the categorical names such as irregular spellings. Choose the correct option of columns with irregular categories and update them.\n",
    "\n"
   ]
  },
  {
   "cell_type": "code",
   "execution_count": 41,
   "id": "82488724",
   "metadata": {},
   "outputs": [
    {
     "data": {
      "text/plain": [
       "Index(['Dress_ID', 'Style', 'Price', 'Rating', 'Size', 'Season', 'NeckLine',\n",
       "       'SleeveLength', 'Material', 'FabricType', 'Decoration', 'Pattern Type',\n",
       "       'Recommendation', '29-08-2013', '31-08-2013', '09-02-2013',\n",
       "       '09-04-2013', '09-06-2013', '09-08-2013', '09-10-2013', '09-12-2013',\n",
       "       '14-09-2013', '16-09-2013', '18-09-2013', '20-09-2013', '22-09-2013',\n",
       "       '24-09-2013', '28-09-2013', '10-06-2013', '10-12-2013', 'Summer',\n",
       "       'Autumn', 'Winter', 'Spring'],\n",
       "      dtype='object')"
      ]
     },
     "execution_count": 41,
     "metadata": {},
     "output_type": "execute_result"
    }
   ],
   "source": [
    "data.columns"
   ]
  },
  {
   "cell_type": "code",
   "execution_count": 42,
   "id": "a3c81b83",
   "metadata": {},
   "outputs": [
    {
     "data": {
      "text/plain": [
       "Summer    154\n",
       "Spring    116\n",
       "Winter     94\n",
       "Automn     59\n",
       "winter     45\n",
       "Autumn      7\n",
       "spring      2\n",
       "Name: Season, dtype: int64"
      ]
     },
     "execution_count": 42,
     "metadata": {},
     "output_type": "execute_result"
    }
   ],
   "source": [
    "data.Season.value_counts()"
   ]
  },
  {
   "cell_type": "code",
   "execution_count": 43,
   "id": "c9355d2d",
   "metadata": {},
   "outputs": [],
   "source": [
    "data.Season=data.Season.replace({\"Automn\":\"Autumn\",\"spring\":\"Spring\",\"winter\":\"Winter\"})"
   ]
  },
  {
   "cell_type": "code",
   "execution_count": 44,
   "id": "c248d3ef",
   "metadata": {},
   "outputs": [
    {
     "data": {
      "text/plain": [
       "Summer    154\n",
       "Winter    139\n",
       "Spring    118\n",
       "Autumn     66\n",
       "Name: Season, dtype: int64"
      ]
     },
     "execution_count": 44,
     "metadata": {},
     "output_type": "execute_result"
    }
   ],
   "source": [
    "data.Season.value_counts()"
   ]
  },
  {
   "cell_type": "code",
   "execution_count": 45,
   "id": "89e9c18b",
   "metadata": {},
   "outputs": [
    {
     "data": {
      "text/plain": [
       "sleevless         216\n",
       "full               94\n",
       "short              92\n",
       "halfsleeve         32\n",
       "threequarter       17\n",
       "thressqatar         8\n",
       "sleeveless          4\n",
       "capsleeves          3\n",
       "cap-sleeves         2\n",
       "sleeevless          2\n",
       "threequater         1\n",
       "turndowncollor      1\n",
       "butterfly           1\n",
       "urndowncollor       1\n",
       "Petal               1\n",
       "sleveless           1\n",
       "half                1\n",
       "Name: SleeveLength, dtype: int64"
      ]
     },
     "execution_count": 45,
     "metadata": {},
     "output_type": "execute_result"
    }
   ],
   "source": [
    "data.SleeveLength.value_counts()"
   ]
  },
  {
   "cell_type": "markdown",
   "id": "55d07b83",
   "metadata": {},
   "source": [
    "**certain discrepancies with the categorical names such as irregular spellings**"
   ]
  },
  {
   "cell_type": "code",
   "execution_count": 46,
   "id": "339427a5",
   "metadata": {},
   "outputs": [],
   "source": [
    " data.SleeveLength= data.SleeveLength.replace(['sleevless', 'sleeevless', 'sleeveless', 'sleveless'], \"sleeve less\")\n"
   ]
  },
  {
   "cell_type": "code",
   "execution_count": 47,
   "id": "994ee458",
   "metadata": {},
   "outputs": [],
   "source": [
    " data.SleeveLength=data.SleeveLength.replace([\"thressqatar\",\"threequarter\"],\"threequater\")"
   ]
  },
  {
   "cell_type": "code",
   "execution_count": 48,
   "id": "52496c48",
   "metadata": {},
   "outputs": [],
   "source": [
    " data.SleeveLength=data.SleeveLength.replace({\"urndowncollor\":\"turndowncollor\"})"
   ]
  },
  {
   "cell_type": "code",
   "execution_count": 49,
   "id": "d04fa0ad",
   "metadata": {},
   "outputs": [],
   "source": [
    " data.SleeveLength=data.SleeveLength.replace([\"capsleeves\",\"cap-sleeves\"],\"cap sleeves\")\n",
    "                                        "
   ]
  },
  {
   "cell_type": "code",
   "execution_count": 50,
   "id": "8e71cd2f",
   "metadata": {},
   "outputs": [],
   "source": [
    " data.SleeveLength=data.SleeveLength.replace({\"full\":\"full sleeves\"})"
   ]
  },
  {
   "cell_type": "code",
   "execution_count": 51,
   "id": "cc06a015",
   "metadata": {},
   "outputs": [],
   "source": [
    "data.SleeveLength=data.SleeveLength.replace({\"half\":\"halfsleeve\"})"
   ]
  },
  {
   "cell_type": "code",
   "execution_count": 52,
   "id": "d828609e",
   "metadata": {},
   "outputs": [
    {
     "data": {
      "text/plain": [
       "sleeve less       223\n",
       "full sleeves       94\n",
       "short              92\n",
       "halfsleeve         33\n",
       "threequater        26\n",
       "cap sleeves         5\n",
       "turndowncollor      2\n",
       "Petal               1\n",
       "butterfly           1\n",
       "Name: SleeveLength, dtype: int64"
      ]
     },
     "execution_count": 52,
     "metadata": {},
     "output_type": "execute_result"
    }
   ],
   "source": [
    "data.SleeveLength.value_counts()"
   ]
  },
  {
   "cell_type": "markdown",
   "id": "7bbaa5aa",
   "metadata": {},
   "source": [
    "# Categorical Unordered Univariate Analysis (Multiple Correct Question)\n",
    "In the ‘Attribute Dataset’, there is a column named ‘Style’, which contains the different style categories of women's apparel. Certain categories whose total sales is less than 50,000 across all the seasons are grouped under a single category named ‘Others’.\n",
    "\n",
    "Which of the following categories under the ‘Style’ column can be grouped in the ‘Others’ category? Perform the grouping operation in the notebook for further analysis.\n",
    "\n",
    "(note: this can have multiple correct answers, select all which fulfil the requirement)"
   ]
  },
  {
   "cell_type": "code",
   "execution_count": 53,
   "id": "60372ddd",
   "metadata": {},
   "outputs": [
    {
     "data": {
      "text/html": [
       "<div>\n",
       "<style scoped>\n",
       "    .dataframe tbody tr th:only-of-type {\n",
       "        vertical-align: middle;\n",
       "    }\n",
       "\n",
       "    .dataframe tbody tr th {\n",
       "        vertical-align: top;\n",
       "    }\n",
       "\n",
       "    .dataframe thead th {\n",
       "        text-align: right;\n",
       "    }\n",
       "</style>\n",
       "<table border=\"1\" class=\"dataframe\">\n",
       "  <thead>\n",
       "    <tr style=\"text-align: right;\">\n",
       "      <th></th>\n",
       "      <th>Dress_ID</th>\n",
       "      <th>Style</th>\n",
       "      <th>Price</th>\n",
       "      <th>Rating</th>\n",
       "      <th>Size</th>\n",
       "      <th>Season</th>\n",
       "      <th>NeckLine</th>\n",
       "      <th>SleeveLength</th>\n",
       "      <th>Material</th>\n",
       "      <th>FabricType</th>\n",
       "      <th>Decoration</th>\n",
       "      <th>Pattern Type</th>\n",
       "      <th>Recommendation</th>\n",
       "      <th>29-08-2013</th>\n",
       "      <th>31-08-2013</th>\n",
       "      <th>09-02-2013</th>\n",
       "      <th>09-04-2013</th>\n",
       "      <th>09-06-2013</th>\n",
       "      <th>09-08-2013</th>\n",
       "      <th>09-10-2013</th>\n",
       "      <th>09-12-2013</th>\n",
       "      <th>14-09-2013</th>\n",
       "      <th>16-09-2013</th>\n",
       "      <th>18-09-2013</th>\n",
       "      <th>20-09-2013</th>\n",
       "      <th>22-09-2013</th>\n",
       "      <th>24-09-2013</th>\n",
       "      <th>28-09-2013</th>\n",
       "      <th>10-06-2013</th>\n",
       "      <th>10-12-2013</th>\n",
       "      <th>Summer</th>\n",
       "      <th>Autumn</th>\n",
       "      <th>Winter</th>\n",
       "      <th>Spring</th>\n",
       "    </tr>\n",
       "  </thead>\n",
       "  <tbody>\n",
       "    <tr>\n",
       "      <th>0</th>\n",
       "      <td>1006032852</td>\n",
       "      <td>Sexy</td>\n",
       "      <td>Low</td>\n",
       "      <td>4.6</td>\n",
       "      <td>Medium</td>\n",
       "      <td>Summer</td>\n",
       "      <td>o-neck</td>\n",
       "      <td>sleeve less</td>\n",
       "      <td>Missing</td>\n",
       "      <td>chiffon</td>\n",
       "      <td>ruffles</td>\n",
       "      <td>animal</td>\n",
       "      <td>1</td>\n",
       "      <td>2114</td>\n",
       "      <td>2274</td>\n",
       "      <td>2491</td>\n",
       "      <td>2660</td>\n",
       "      <td>2727</td>\n",
       "      <td>2887</td>\n",
       "      <td>2930</td>\n",
       "      <td>3119.0</td>\n",
       "      <td>3204.0</td>\n",
       "      <td>3277.0</td>\n",
       "      <td>3321.0</td>\n",
       "      <td>3386.0</td>\n",
       "      <td>3479.0</td>\n",
       "      <td>3554</td>\n",
       "      <td>3706</td>\n",
       "      <td>3897</td>\n",
       "      <td>4048</td>\n",
       "      <td>13899</td>\n",
       "      <td>26857.0</td>\n",
       "      <td>9658.0</td>\n",
       "      <td>2660</td>\n",
       "    </tr>\n",
       "    <tr>\n",
       "      <th>1</th>\n",
       "      <td>1212192089</td>\n",
       "      <td>Casual</td>\n",
       "      <td>Low</td>\n",
       "      <td>0.0</td>\n",
       "      <td>Large</td>\n",
       "      <td>Summer</td>\n",
       "      <td>o-neck</td>\n",
       "      <td>Petal</td>\n",
       "      <td>microfiber</td>\n",
       "      <td>Missing</td>\n",
       "      <td>ruffles</td>\n",
       "      <td>animal</td>\n",
       "      <td>0</td>\n",
       "      <td>151</td>\n",
       "      <td>275</td>\n",
       "      <td>570</td>\n",
       "      <td>750</td>\n",
       "      <td>813</td>\n",
       "      <td>1066</td>\n",
       "      <td>1164</td>\n",
       "      <td>1558.0</td>\n",
       "      <td>1756.0</td>\n",
       "      <td>1878.0</td>\n",
       "      <td>1985.0</td>\n",
       "      <td>2106.0</td>\n",
       "      <td>2454.0</td>\n",
       "      <td>2710</td>\n",
       "      <td>3258</td>\n",
       "      <td>3911</td>\n",
       "      <td>4277</td>\n",
       "      <td>6216</td>\n",
       "      <td>17311.0</td>\n",
       "      <td>6405.0</td>\n",
       "      <td>750</td>\n",
       "    </tr>\n",
       "  </tbody>\n",
       "</table>\n",
       "</div>"
      ],
      "text/plain": [
       "     Dress_ID   Style Price  Rating    Size  Season NeckLine SleeveLength  \\\n",
       "0  1006032852    Sexy   Low     4.6  Medium  Summer   o-neck  sleeve less   \n",
       "1  1212192089  Casual   Low     0.0   Large  Summer   o-neck        Petal   \n",
       "\n",
       "     Material FabricType Decoration Pattern Type  Recommendation  29-08-2013  \\\n",
       "0     Missing    chiffon    ruffles       animal               1        2114   \n",
       "1  microfiber    Missing    ruffles       animal               0         151   \n",
       "\n",
       "   31-08-2013  09-02-2013  09-04-2013  09-06-2013  09-08-2013  09-10-2013  \\\n",
       "0        2274        2491        2660        2727        2887        2930   \n",
       "1         275         570         750         813        1066        1164   \n",
       "\n",
       "   09-12-2013  14-09-2013  16-09-2013  18-09-2013  20-09-2013  22-09-2013  \\\n",
       "0      3119.0      3204.0      3277.0      3321.0      3386.0      3479.0   \n",
       "1      1558.0      1756.0      1878.0      1985.0      2106.0      2454.0   \n",
       "\n",
       "   24-09-2013  28-09-2013  10-06-2013  10-12-2013  Summer   Autumn  Winter  \\\n",
       "0        3554        3706        3897        4048   13899  26857.0  9658.0   \n",
       "1        2710        3258        3911        4277    6216  17311.0  6405.0   \n",
       "\n",
       "   Spring  \n",
       "0    2660  \n",
       "1     750  "
      ]
     },
     "execution_count": 53,
     "metadata": {},
     "output_type": "execute_result"
    }
   ],
   "source": [
    "data.head(2)"
   ]
  },
  {
   "cell_type": "code",
   "execution_count": 54,
   "id": "b81ff2db",
   "metadata": {},
   "outputs": [],
   "source": [
    "total=data.groupby(by=[\"Style\"])[\"Summer\",\"Autumn\",\"Winter\",\"Spring\"].sum()"
   ]
  },
  {
   "cell_type": "code",
   "execution_count": 55,
   "id": "8086cbcc",
   "metadata": {},
   "outputs": [
    {
     "data": {
      "image/png": "[encoded data removed]",
      "text/plain": [
       "<Figure size 1080x576 with 1 Axes>"
      ]
     },
     "metadata": {},
     "output_type": "display_data"
    }
   ],
   "source": [
    "total.plot(kind=\"bar\",figsize=(15,8))\n",
    "plt.show()"
   ]
  },
  {
   "cell_type": "markdown",
   "id": "41f60b52",
   "metadata": {},
   "source": [
    "# **Acording to the questions there are Flare,Novelty,OL,Bohemian,fashion,party,sexy,vintage,fashion and work  in Style Sections are less than 50000 sales in all seasons**"
   ]
  },
  {
   "cell_type": "markdown",
   "id": "fbf05888",
   "metadata": {},
   "source": [
    "# Categorical Unordered Univariate Analysis\n",
    "What is the respective percentage of the 'Cute' and 'Others' categories in the 'Style' column in the 'Attribute Dataset'?"
   ]
  },
  {
   "cell_type": "code",
   "execution_count": 56,
   "id": "e177466e",
   "metadata": {},
   "outputs": [
    {
     "data": {
      "text/plain": [
       "Index(['Dress_ID', 'Style', 'Price', 'Rating', 'Size', 'Season', 'NeckLine',\n",
       "       'SleeveLength', 'Material', 'FabricType', 'Decoration', 'Pattern Type',\n",
       "       'Recommendation', '29-08-2013', '31-08-2013', '09-02-2013',\n",
       "       '09-04-2013', '09-06-2013', '09-08-2013', '09-10-2013', '09-12-2013',\n",
       "       '14-09-2013', '16-09-2013', '18-09-2013', '20-09-2013', '22-09-2013',\n",
       "       '24-09-2013', '28-09-2013', '10-06-2013', '10-12-2013', 'Summer',\n",
       "       'Autumn', 'Winter', 'Spring'],\n",
       "      dtype='object')"
      ]
     },
     "execution_count": 56,
     "metadata": {},
     "output_type": "execute_result"
    }
   ],
   "source": [
    "data.columns"
   ]
  },
  {
   "cell_type": "code",
   "execution_count": 57,
   "id": "c3c67909",
   "metadata": {},
   "outputs": [],
   "source": [
    "perc=data.Style.value_counts(normalize=True)*100"
   ]
  },
  {
   "cell_type": "code",
   "execution_count": 58,
   "id": "372d1fb8",
   "metadata": {},
   "outputs": [
    {
     "data": {
      "text/plain": [
       "Casual      45.720251\n",
       "Sexy        13.778706\n",
       "party       10.647182\n",
       "cute         9.185804\n",
       "vintage      5.219207\n",
       "bohemian     4.801670\n",
       "work         3.549061\n",
       "Brief        3.549061\n",
       "sexy         1.461378\n",
       "Novelty      1.252610\n",
       "Flare        0.417537\n",
       "fashion      0.208768\n",
       "OL           0.208768\n",
       "Name: Style, dtype: float64"
      ]
     },
     "execution_count": 58,
     "metadata": {},
     "output_type": "execute_result"
    }
   ],
   "source": [
    "perc"
   ]
  },
  {
   "cell_type": "code",
   "execution_count": 59,
   "id": "2bdfb09b",
   "metadata": {},
   "outputs": [
    {
     "data": {
      "image/png": "[encoded data removed]",
      "text/plain": [
       "<Figure size 720x360 with 1 Axes>"
      ]
     },
     "metadata": {},
     "output_type": "display_data"
    }
   ],
   "source": [
    "perc.plot(kind=\"bar\",figsize=(10,5))\n",
    "plt.xlabel(\"Style\")\n",
    "plt.ylabel(\"Percentage\")\n",
    "plt.show()"
   ]
  },
  {
   "cell_type": "markdown",
   "id": "ee3a5d22",
   "metadata": {},
   "source": [
    "# Numerical Variable Univariate Analysis\n",
    "What is the approximate difference between the maximum value and the 75th percentile in the 'Autumn' column?"
   ]
  },
  {
   "cell_type": "code",
   "execution_count": 60,
   "id": "98b0d3d9",
   "metadata": {},
   "outputs": [
    {
     "data": {
      "text/plain": [
       "Index(['Dress_ID', 'Style', 'Price', 'Rating', 'Size', 'Season', 'NeckLine',\n",
       "       'SleeveLength', 'Material', 'FabricType', 'Decoration', 'Pattern Type',\n",
       "       'Recommendation', '29-08-2013', '31-08-2013', '09-02-2013',\n",
       "       '09-04-2013', '09-06-2013', '09-08-2013', '09-10-2013', '09-12-2013',\n",
       "       '14-09-2013', '16-09-2013', '18-09-2013', '20-09-2013', '22-09-2013',\n",
       "       '24-09-2013', '28-09-2013', '10-06-2013', '10-12-2013', 'Summer',\n",
       "       'Autumn', 'Winter', 'Spring'],\n",
       "      dtype='object')"
      ]
     },
     "execution_count": 60,
     "metadata": {},
     "output_type": "execute_result"
    }
   ],
   "source": [
    "data.columns"
   ]
  },
  {
   "cell_type": "code",
   "execution_count": 61,
   "id": "66cb856a",
   "metadata": {},
   "outputs": [
    {
     "data": {
      "text/plain": [
       "count      479.000000\n",
       "mean      2846.112735\n",
       "std       5004.985872\n",
       "min          1.000000\n",
       "25%        410.500000\n",
       "50%       1334.000000\n",
       "75%       3126.000000\n",
       "max      55532.000000\n",
       "Name: Autumn, dtype: float64"
      ]
     },
     "execution_count": 61,
     "metadata": {},
     "output_type": "execute_result"
    }
   ],
   "source": [
    "data.Autumn.describe()"
   ]
  },
  {
   "cell_type": "code",
   "execution_count": 62,
   "id": "6c97c287",
   "metadata": {},
   "outputs": [
    {
     "data": {
      "text/plain": [
       "52406"
      ]
     },
     "execution_count": 62,
     "metadata": {},
     "output_type": "execute_result"
    }
   ],
   "source": [
    "55532-3126 # difference between the maximum value and the 75th percentile in the 'Autumn' column"
   ]
  },
  {
   "cell_type": "markdown",
   "id": "8096e692",
   "metadata": {},
   "source": [
    "# Numerical Variable Univariate Analysis\n",
    "Which of the following seasons shows the highest difference between the maximum value and the 99th quantile of sales?"
   ]
  },
  {
   "cell_type": "code",
   "execution_count": 63,
   "id": "8c99afb6",
   "metadata": {},
   "outputs": [
    {
     "data": {
      "text/html": [
       "<div>\n",
       "<style scoped>\n",
       "    .dataframe tbody tr th:only-of-type {\n",
       "        vertical-align: middle;\n",
       "    }\n",
       "\n",
       "    .dataframe tbody tr th {\n",
       "        vertical-align: top;\n",
       "    }\n",
       "\n",
       "    .dataframe thead th {\n",
       "        text-align: right;\n",
       "    }\n",
       "</style>\n",
       "<table border=\"1\" class=\"dataframe\">\n",
       "  <thead>\n",
       "    <tr style=\"text-align: right;\">\n",
       "      <th></th>\n",
       "      <th>Summer</th>\n",
       "      <th>Autumn</th>\n",
       "      <th>Winter</th>\n",
       "      <th>Spring</th>\n",
       "    </tr>\n",
       "  </thead>\n",
       "  <tbody>\n",
       "    <tr>\n",
       "      <th>count</th>\n",
       "      <td>479.000000</td>\n",
       "      <td>479.000000</td>\n",
       "      <td>479.000000</td>\n",
       "      <td>479.000000</td>\n",
       "    </tr>\n",
       "    <tr>\n",
       "      <th>mean</th>\n",
       "      <td>1444.482255</td>\n",
       "      <td>2846.112735</td>\n",
       "      <td>990.987474</td>\n",
       "      <td>299.791232</td>\n",
       "    </tr>\n",
       "    <tr>\n",
       "      <th>std</th>\n",
       "      <td>2976.993959</td>\n",
       "      <td>5004.985872</td>\n",
       "      <td>1849.754847</td>\n",
       "      <td>601.716515</td>\n",
       "    </tr>\n",
       "    <tr>\n",
       "      <th>min</th>\n",
       "      <td>2.000000</td>\n",
       "      <td>1.000000</td>\n",
       "      <td>0.000000</td>\n",
       "      <td>1.000000</td>\n",
       "    </tr>\n",
       "    <tr>\n",
       "      <th>25%</th>\n",
       "      <td>156.500000</td>\n",
       "      <td>410.500000</td>\n",
       "      <td>122.000000</td>\n",
       "      <td>28.500000</td>\n",
       "    </tr>\n",
       "    <tr>\n",
       "      <th>50%</th>\n",
       "      <td>518.000000</td>\n",
       "      <td>1334.000000</td>\n",
       "      <td>402.000000</td>\n",
       "      <td>110.000000</td>\n",
       "    </tr>\n",
       "    <tr>\n",
       "      <th>75%</th>\n",
       "      <td>1475.500000</td>\n",
       "      <td>3126.000000</td>\n",
       "      <td>1096.000000</td>\n",
       "      <td>308.500000</td>\n",
       "    </tr>\n",
       "    <tr>\n",
       "      <th>max</th>\n",
       "      <td>35577.000000</td>\n",
       "      <td>55532.000000</td>\n",
       "      <td>20388.000000</td>\n",
       "      <td>7374.000000</td>\n",
       "    </tr>\n",
       "  </tbody>\n",
       "</table>\n",
       "</div>"
      ],
      "text/plain": [
       "             Summer        Autumn        Winter       Spring\n",
       "count    479.000000    479.000000    479.000000   479.000000\n",
       "mean    1444.482255   2846.112735    990.987474   299.791232\n",
       "std     2976.993959   5004.985872   1849.754847   601.716515\n",
       "min        2.000000      1.000000      0.000000     1.000000\n",
       "25%      156.500000    410.500000    122.000000    28.500000\n",
       "50%      518.000000   1334.000000    402.000000   110.000000\n",
       "75%     1475.500000   3126.000000   1096.000000   308.500000\n",
       "max    35577.000000  55532.000000  20388.000000  7374.000000"
      ]
     },
     "execution_count": 63,
     "metadata": {},
     "output_type": "execute_result"
    }
   ],
   "source": [
    "data[[\"Summer\",\"Autumn\",\"Winter\",\"Spring\"]].describe()"
   ]
  },
  {
   "cell_type": "code",
   "execution_count": 64,
   "id": "5f2c19d1",
   "metadata": {},
   "outputs": [
    {
     "data": {
      "text/plain": [
       "4717.12"
      ]
     },
     "execution_count": 64,
     "metadata": {},
     "output_type": "execute_result"
    }
   ],
   "source": [
    "7374.000000-data.Spring.quantile(0.99) #spring Max Subract Quantile "
   ]
  },
  {
   "cell_type": "code",
   "execution_count": 65,
   "id": "2b62f317",
   "metadata": {},
   "outputs": [
    {
     "data": {
      "text/plain": [
       "21623.000000000007"
      ]
     },
     "execution_count": 65,
     "metadata": {},
     "output_type": "execute_result"
    }
   ],
   "source": [
    "35577.000000-data.Summer.quantile(0.99) #for summer"
   ]
  },
  {
   "cell_type": "code",
   "execution_count": 66,
   "id": "1078c8c5",
   "metadata": {},
   "outputs": [
    {
     "data": {
      "text/plain": [
       "11479.580000000029"
      ]
     },
     "execution_count": 66,
     "metadata": {},
     "output_type": "execute_result"
    }
   ],
   "source": [
    "20388-data.Winter.quantile(0.99) #for winter"
   ]
  },
  {
   "cell_type": "code",
   "execution_count": 67,
   "id": "6e9d1561",
   "metadata": {},
   "outputs": [
    {
     "data": {
      "text/plain": [
       "31571.600000000064"
      ]
     },
     "execution_count": 67,
     "metadata": {},
     "output_type": "execute_result"
    }
   ],
   "source": [
    "55532.000000-data.Autumn.quantile(0.99) #for autumn"
   ]
  },
  {
   "cell_type": "code",
   "execution_count": 68,
   "id": "472b1345",
   "metadata": {},
   "outputs": [],
   "source": [
    "# ** highest difference between the maximum value and the 99th quantile of sales is Autum**"
   ]
  },
  {
   "cell_type": "markdown",
   "id": "bbeea359",
   "metadata": {},
   "source": [
    "# Numerical - Categorical Bivariate Analysis\n",
    "Which of the following categories of the 'Price' column has the lowest average rating?"
   ]
  },
  {
   "cell_type": "code",
   "execution_count": 69,
   "id": "56caa4f4",
   "metadata": {},
   "outputs": [
    {
     "data": {
      "text/plain": [
       "Index(['Dress_ID', 'Style', 'Price', 'Rating', 'Size', 'Season', 'NeckLine',\n",
       "       'SleeveLength', 'Material', 'FabricType', 'Decoration', 'Pattern Type',\n",
       "       'Recommendation', '29-08-2013', '31-08-2013', '09-02-2013',\n",
       "       '09-04-2013', '09-06-2013', '09-08-2013', '09-10-2013', '09-12-2013',\n",
       "       '14-09-2013', '16-09-2013', '18-09-2013', '20-09-2013', '22-09-2013',\n",
       "       '24-09-2013', '28-09-2013', '10-06-2013', '10-12-2013', 'Summer',\n",
       "       'Autumn', 'Winter', 'Spring'],\n",
       "      dtype='object')"
      ]
     },
     "execution_count": 69,
     "metadata": {},
     "output_type": "execute_result"
    }
   ],
   "source": [
    "data.columns"
   ]
  },
  {
   "cell_type": "code",
   "execution_count": 70,
   "id": "eff90ff9",
   "metadata": {},
   "outputs": [],
   "source": [
    "me=data.groupby(by=[\"Price\"])[\"Rating\"].mean()"
   ]
  },
  {
   "cell_type": "code",
   "execution_count": 71,
   "id": "fba71360",
   "metadata": {},
   "outputs": [
    {
     "data": {
      "image/png": "[encoded data removed]",
      "text/plain": [
       "<Figure size 432x288 with 1 Axes>"
      ]
     },
     "metadata": {},
     "output_type": "display_data"
    }
   ],
   "source": [
    "me.plot(kind=\"barh\")\n",
    "plt.show()"
   ]
  },
  {
   "cell_type": "markdown",
   "id": "88059ce8",
   "metadata": {},
   "source": [
    "***High is the lowest average rating*** "
   ]
  },
  {
   "cell_type": "markdown",
   "id": "33f2cf20",
   "metadata": {},
   "source": [
    "# Numerical - Categorical Bivariate Analysis\n",
    "What is the median value of rating for the 'vintage' category in the Style column?\n",
    "\n"
   ]
  },
  {
   "cell_type": "code",
   "execution_count": 72,
   "id": "d264e6de",
   "metadata": {},
   "outputs": [
    {
     "data": {
      "text/plain": [
       "Index(['Dress_ID', 'Style', 'Price', 'Rating', 'Size', 'Season', 'NeckLine',\n",
       "       'SleeveLength', 'Material', 'FabricType', 'Decoration', 'Pattern Type',\n",
       "       'Recommendation', '29-08-2013', '31-08-2013', '09-02-2013',\n",
       "       '09-04-2013', '09-06-2013', '09-08-2013', '09-10-2013', '09-12-2013',\n",
       "       '14-09-2013', '16-09-2013', '18-09-2013', '20-09-2013', '22-09-2013',\n",
       "       '24-09-2013', '28-09-2013', '10-06-2013', '10-12-2013', 'Summer',\n",
       "       'Autumn', 'Winter', 'Spring'],\n",
       "      dtype='object')"
      ]
     },
     "execution_count": 72,
     "metadata": {},
     "output_type": "execute_result"
    }
   ],
   "source": [
    "data.columns"
   ]
  },
  {
   "cell_type": "code",
   "execution_count": 73,
   "id": "50644303",
   "metadata": {},
   "outputs": [],
   "source": [
    "re=data.groupby(by=[\"Style\"])[\"Rating\"].median()"
   ]
  },
  {
   "cell_type": "code",
   "execution_count": 74,
   "id": "34d08e5a",
   "metadata": {},
   "outputs": [
    {
     "data": {
      "image/png": "[encoded data removed]",
      "text/plain": [
       "<Figure size 720x360 with 1 Axes>"
      ]
     },
     "metadata": {},
     "output_type": "display_data"
    }
   ],
   "source": [
    "re.plot(kind=\"barh\",figsize=(10,5),color=\"g\")\n",
    "plt.show()"
   ]
  },
  {
   "cell_type": "markdown",
   "id": "214b6bae",
   "metadata": {},
   "source": [
    "***The Median of Vintage Vlaue is 4.60***"
   ]
  },
  {
   "cell_type": "markdown",
   "id": "bbd85cda",
   "metadata": {},
   "source": [
    "# Numerical - Categorical Bivariate Analysis\n",
    "Which of the following seasons shows the highest average value of sales for “Recommendation” value equals to 1."
   ]
  },
  {
   "cell_type": "code",
   "execution_count": 75,
   "id": "258718a5",
   "metadata": {},
   "outputs": [
    {
     "data": {
      "text/plain": [
       "Index(['Dress_ID', 'Style', 'Price', 'Rating', 'Size', 'Season', 'NeckLine',\n",
       "       'SleeveLength', 'Material', 'FabricType', 'Decoration', 'Pattern Type',\n",
       "       'Recommendation', '29-08-2013', '31-08-2013', '09-02-2013',\n",
       "       '09-04-2013', '09-06-2013', '09-08-2013', '09-10-2013', '09-12-2013',\n",
       "       '14-09-2013', '16-09-2013', '18-09-2013', '20-09-2013', '22-09-2013',\n",
       "       '24-09-2013', '28-09-2013', '10-06-2013', '10-12-2013', 'Summer',\n",
       "       'Autumn', 'Winter', 'Spring'],\n",
       "      dtype='object')"
      ]
     },
     "execution_count": 75,
     "metadata": {},
     "output_type": "execute_result"
    }
   ],
   "source": [
    "data.columns"
   ]
  },
  {
   "cell_type": "code",
   "execution_count": 76,
   "id": "ad69c5af",
   "metadata": {},
   "outputs": [],
   "source": [
    "res1=data.groupby(by=[\"Recommendation\"])[\"Autumn\",\"Winter\",\"Spring\",\"Summer\"].mean()"
   ]
  },
  {
   "cell_type": "code",
   "execution_count": 77,
   "id": "7fa9081e",
   "metadata": {},
   "outputs": [
    {
     "data": {
      "image/png": "[encoded data removed]",
      "text/plain": [
       "<Figure size 432x288 with 1 Axes>"
      ]
     },
     "metadata": {},
     "output_type": "display_data"
    }
   ],
   "source": [
    "res1.plot(kind=\"barh\")\n",
    "plt.legend(bbox_to_anchor=(1.31,0.4))\n",
    "plt.show()"
   ]
  },
  {
   "cell_type": "markdown",
   "id": "0ad7d7fd",
   "metadata": {},
   "source": [
    "**shows the highest average value of sales for “Recommendation” value equals to 1 is Autumn**"
   ]
  },
  {
   "cell_type": "markdown",
   "id": "2f9a5044",
   "metadata": {},
   "source": [
    "# Categorical - Categorical Bivariate Analysis\n",
    "Which of the following size categories has the most positive recommendations?"
   ]
  },
  {
   "cell_type": "code",
   "execution_count": 78,
   "id": "ea51b942",
   "metadata": {},
   "outputs": [
    {
     "data": {
      "text/plain": [
       "Index(['Dress_ID', 'Style', 'Price', 'Rating', 'Size', 'Season', 'NeckLine',\n",
       "       'SleeveLength', 'Material', 'FabricType', 'Decoration', 'Pattern Type',\n",
       "       'Recommendation', '29-08-2013', '31-08-2013', '09-02-2013',\n",
       "       '09-04-2013', '09-06-2013', '09-08-2013', '09-10-2013', '09-12-2013',\n",
       "       '14-09-2013', '16-09-2013', '18-09-2013', '20-09-2013', '22-09-2013',\n",
       "       '24-09-2013', '28-09-2013', '10-06-2013', '10-12-2013', 'Summer',\n",
       "       'Autumn', 'Winter', 'Spring'],\n",
       "      dtype='object')"
      ]
     },
     "execution_count": 78,
     "metadata": {},
     "output_type": "execute_result"
    }
   ],
   "source": [
    "data.columns"
   ]
  },
  {
   "cell_type": "code",
   "execution_count": 79,
   "id": "83014110",
   "metadata": {},
   "outputs": [
    {
     "data": {
      "image/png": "[encoded data removed]",
      "text/plain": [
       "<Figure size 432x288 with 1 Axes>"
      ]
     },
     "metadata": {},
     "output_type": "display_data"
    }
   ],
   "source": [
    "data.groupby(by=[\"Size\"])[\"Recommendation\"].mean().plot(kind=\"barh\")\n",
    "plt.legend()\n",
    "plt.legend(bbox_to_anchor=(1.31,0.4))\n",
    "plt.show()"
   ]
  },
  {
   "cell_type": "markdown",
   "id": "a0b94c29",
   "metadata": {},
   "source": [
    " ***following size categories has the most positive recommendations is Medium and Free***"
   ]
  },
  {
   "cell_type": "markdown",
   "id": "c92cd8cd",
   "metadata": {},
   "source": [
    "# Multivariate Analysis\n",
    "Which of the following pair of 'Style' and 'Price' categories has the highest average of positive recommendations?"
   ]
  },
  {
   "cell_type": "code",
   "execution_count": 80,
   "id": "0c384b10",
   "metadata": {},
   "outputs": [
    {
     "data": {
      "text/plain": [
       "Index(['Dress_ID', 'Style', 'Price', 'Rating', 'Size', 'Season', 'NeckLine',\n",
       "       'SleeveLength', 'Material', 'FabricType', 'Decoration', 'Pattern Type',\n",
       "       'Recommendation', '29-08-2013', '31-08-2013', '09-02-2013',\n",
       "       '09-04-2013', '09-06-2013', '09-08-2013', '09-10-2013', '09-12-2013',\n",
       "       '14-09-2013', '16-09-2013', '18-09-2013', '20-09-2013', '22-09-2013',\n",
       "       '24-09-2013', '28-09-2013', '10-06-2013', '10-12-2013', 'Summer',\n",
       "       'Autumn', 'Winter', 'Spring'],\n",
       "      dtype='object')"
      ]
     },
     "execution_count": 80,
     "metadata": {},
     "output_type": "execute_result"
    }
   ],
   "source": [
    "data.columns"
   ]
  },
  {
   "cell_type": "code",
   "execution_count": 81,
   "id": "e73ba384",
   "metadata": {},
   "outputs": [
    {
     "data": {
      "text/html": [
       "<div>\n",
       "<style scoped>\n",
       "    .dataframe tbody tr th:only-of-type {\n",
       "        vertical-align: middle;\n",
       "    }\n",
       "\n",
       "    .dataframe tbody tr th {\n",
       "        vertical-align: top;\n",
       "    }\n",
       "\n",
       "    .dataframe thead th {\n",
       "        text-align: right;\n",
       "    }\n",
       "</style>\n",
       "<table border=\"1\" class=\"dataframe\">\n",
       "  <thead>\n",
       "    <tr style=\"text-align: right;\">\n",
       "      <th>Price</th>\n",
       "      <th>Average</th>\n",
       "      <th>High</th>\n",
       "      <th>Low</th>\n",
       "      <th>Medium</th>\n",
       "      <th>very-high</th>\n",
       "    </tr>\n",
       "    <tr>\n",
       "      <th>Style</th>\n",
       "      <th></th>\n",
       "      <th></th>\n",
       "      <th></th>\n",
       "      <th></th>\n",
       "      <th></th>\n",
       "    </tr>\n",
       "  </thead>\n",
       "  <tbody>\n",
       "    <tr>\n",
       "      <th>Brief</th>\n",
       "      <td>0.333333</td>\n",
       "      <td>NaN</td>\n",
       "      <td>0.000000</td>\n",
       "      <td>NaN</td>\n",
       "      <td>NaN</td>\n",
       "    </tr>\n",
       "    <tr>\n",
       "      <th>Casual</th>\n",
       "      <td>0.345455</td>\n",
       "      <td>0.666667</td>\n",
       "      <td>0.382022</td>\n",
       "      <td>0.666667</td>\n",
       "      <td>0.500000</td>\n",
       "    </tr>\n",
       "    <tr>\n",
       "      <th>Flare</th>\n",
       "      <td>0.500000</td>\n",
       "      <td>NaN</td>\n",
       "      <td>NaN</td>\n",
       "      <td>NaN</td>\n",
       "      <td>NaN</td>\n",
       "    </tr>\n",
       "    <tr>\n",
       "      <th>Novelty</th>\n",
       "      <td>0.400000</td>\n",
       "      <td>NaN</td>\n",
       "      <td>NaN</td>\n",
       "      <td>1.000000</td>\n",
       "      <td>NaN</td>\n",
       "    </tr>\n",
       "    <tr>\n",
       "      <th>OL</th>\n",
       "      <td>NaN</td>\n",
       "      <td>NaN</td>\n",
       "      <td>NaN</td>\n",
       "      <td>0.000000</td>\n",
       "      <td>NaN</td>\n",
       "    </tr>\n",
       "    <tr>\n",
       "      <th>Sexy</th>\n",
       "      <td>0.344828</td>\n",
       "      <td>0.000000</td>\n",
       "      <td>0.515152</td>\n",
       "      <td>0.000000</td>\n",
       "      <td>0.000000</td>\n",
       "    </tr>\n",
       "    <tr>\n",
       "      <th>bohemian</th>\n",
       "      <td>0.333333</td>\n",
       "      <td>NaN</td>\n",
       "      <td>0.666667</td>\n",
       "      <td>1.000000</td>\n",
       "      <td>1.000000</td>\n",
       "    </tr>\n",
       "    <tr>\n",
       "      <th>cute</th>\n",
       "      <td>0.380952</td>\n",
       "      <td>0.666667</td>\n",
       "      <td>0.500000</td>\n",
       "      <td>1.000000</td>\n",
       "      <td>NaN</td>\n",
       "    </tr>\n",
       "    <tr>\n",
       "      <th>fashion</th>\n",
       "      <td>0.000000</td>\n",
       "      <td>NaN</td>\n",
       "      <td>NaN</td>\n",
       "      <td>NaN</td>\n",
       "      <td>NaN</td>\n",
       "    </tr>\n",
       "    <tr>\n",
       "      <th>party</th>\n",
       "      <td>0.666667</td>\n",
       "      <td>0.333333</td>\n",
       "      <td>NaN</td>\n",
       "      <td>0.800000</td>\n",
       "      <td>0.823529</td>\n",
       "    </tr>\n",
       "    <tr>\n",
       "      <th>sexy</th>\n",
       "      <td>0.500000</td>\n",
       "      <td>NaN</td>\n",
       "      <td>0.750000</td>\n",
       "      <td>0.000000</td>\n",
       "      <td>NaN</td>\n",
       "    </tr>\n",
       "    <tr>\n",
       "      <th>vintage</th>\n",
       "      <td>0.352941</td>\n",
       "      <td>0.000000</td>\n",
       "      <td>0.250000</td>\n",
       "      <td>0.500000</td>\n",
       "      <td>NaN</td>\n",
       "    </tr>\n",
       "    <tr>\n",
       "      <th>work</th>\n",
       "      <td>0.214286</td>\n",
       "      <td>NaN</td>\n",
       "      <td>0.000000</td>\n",
       "      <td>0.000000</td>\n",
       "      <td>NaN</td>\n",
       "    </tr>\n",
       "  </tbody>\n",
       "</table>\n",
       "</div>"
      ],
      "text/plain": [
       "Price      Average      High       Low    Medium  very-high\n",
       "Style                                                      \n",
       "Brief     0.333333       NaN  0.000000       NaN        NaN\n",
       "Casual    0.345455  0.666667  0.382022  0.666667   0.500000\n",
       "Flare     0.500000       NaN       NaN       NaN        NaN\n",
       "Novelty   0.400000       NaN       NaN  1.000000        NaN\n",
       "OL             NaN       NaN       NaN  0.000000        NaN\n",
       "Sexy      0.344828  0.000000  0.515152  0.000000   0.000000\n",
       "bohemian  0.333333       NaN  0.666667  1.000000   1.000000\n",
       "cute      0.380952  0.666667  0.500000  1.000000        NaN\n",
       "fashion   0.000000       NaN       NaN       NaN        NaN\n",
       "party     0.666667  0.333333       NaN  0.800000   0.823529\n",
       "sexy      0.500000       NaN  0.750000  0.000000        NaN\n",
       "vintage   0.352941  0.000000  0.250000  0.500000        NaN\n",
       "work      0.214286       NaN  0.000000  0.000000        NaN"
      ]
     },
     "execution_count": 81,
     "metadata": {},
     "output_type": "execute_result"
    }
   ],
   "source": [
    "hea=data.pivot_table(index=\"Style\",columns=\"Price\",values=\"Recommendation\",aggfunc=np.mean)\n",
    "hea"
   ]
  },
  {
   "cell_type": "code",
   "execution_count": 82,
   "id": "f0c4e441",
   "metadata": {},
   "outputs": [
    {
     "data": {
      "image/png": "[encoded data removed]",
      "text/plain": [
       "<Figure size 720x360 with 2 Axes>"
      ]
     },
     "metadata": {},
     "output_type": "display_data"
    }
   ],
   "source": [
    "plt.figure(figsize=(10,5))\n",
    "sns.heatmap(hea,annot=True,cmap=\"tab20c_r\")\n",
    "plt.title(\"Correlations of Style and Price categories has the highest average of Positive Recommendations\\n\")\n",
    "plt.show()"
   ]
  },
  {
   "cell_type": "markdown",
   "id": "aac81fc8",
   "metadata": {},
   "source": [
    "***pair of 'Style' and 'Price' categories has the highest average of positive recommendations is Medium and cute,Medium and bohemian,veryhigh and bohemian and medium and Novelty***"
   ]
  },
  {
   "cell_type": "markdown",
   "id": "1d3139a1",
   "metadata": {},
   "source": [
    "# Multivariate Analysis\n",
    "Which of the following material types has no recommendation in summer and winter seasons?"
   ]
  },
  {
   "cell_type": "code",
   "execution_count": 83,
   "id": "def1b523",
   "metadata": {},
   "outputs": [
    {
     "data": {
      "text/plain": [
       "Index(['Dress_ID', 'Style', 'Price', 'Rating', 'Size', 'Season', 'NeckLine',\n",
       "       'SleeveLength', 'Material', 'FabricType', 'Decoration', 'Pattern Type',\n",
       "       'Recommendation', '29-08-2013', '31-08-2013', '09-02-2013',\n",
       "       '09-04-2013', '09-06-2013', '09-08-2013', '09-10-2013', '09-12-2013',\n",
       "       '14-09-2013', '16-09-2013', '18-09-2013', '20-09-2013', '22-09-2013',\n",
       "       '24-09-2013', '28-09-2013', '10-06-2013', '10-12-2013', 'Summer',\n",
       "       'Autumn', 'Winter', 'Spring'],\n",
       "      dtype='object')"
      ]
     },
     "execution_count": 83,
     "metadata": {},
     "output_type": "execute_result"
    }
   ],
   "source": [
    "data.columns"
   ]
  },
  {
   "cell_type": "code",
   "execution_count": 84,
   "id": "0bf07e30",
   "metadata": {},
   "outputs": [],
   "source": [
    "rec= data.pivot_table(index=\"Material\",columns=\"Season\",values=\"Recommendation\",aggfunc=np.mean)"
   ]
  },
  {
   "cell_type": "code",
   "execution_count": 85,
   "id": "257b731c",
   "metadata": {},
   "outputs": [
    {
     "data": {
      "image/png": "[encoded data removed]",
      "text/plain": [
       "<Figure size 720x576 with 2 Axes>"
      ]
     },
     "metadata": {},
     "output_type": "display_data"
    }
   ],
   "source": [
    "plt.figure(figsize=(10,8))\n",
    "sns.heatmap(rec,annot=True,cmap=\"tab20c_r\")\n",
    "plt.title(\"Correlations of Material types has no Recommendation all Seasons\\n\")\n",
    "plt.show()"
   ]
  },
  {
   "cell_type": "markdown",
   "id": "5de2c804",
   "metadata": {},
   "source": [
    "***Answer is Milksilk and Microfiber***"
   ]
  },
  {
   "cell_type": "code",
   "execution_count": null,
   "id": "5987cc5e",
   "metadata": {},
   "outputs": [],
   "source": []
  }
 ],
 "metadata": {
  "kernelspec": {
   "display_name": "Python 3",
   "language": "python",
   "name": "python3"
  },
  "language_info": {
   "codemirror_mode": {
    "name": "ipython",
    "version": 3
   },
   "file_extension": ".py",
   "mimetype": "text/x-python",
   "name": "python",
   "nbconvert_exporter": "python",
   "pygments_lexer": "ipython3",
   "version": "3.8.8"
  }
 },
 "nbformat": 4,
 "nbformat_minor": 5
}
